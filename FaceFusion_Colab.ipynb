{
  "nbformat": 4,
  "nbformat_minor": 0,
  "metadata": {
    "colab": {
      "provenance": [],
      "gpuType": "T4",
      "include_colab_link": true
    },
    "kernelspec": {
      "name": "python3",
      "display_name": "Python 3"
    },
    "language_info": {
      "name": "python"
    },
    "accelerator": "GPU"
  },
  "cells": [
    {
      "cell_type": "markdown",
      "metadata": {
        "id": "view-in-github",
        "colab_type": "text"
      },
      "source": [
        "<a href=\"https://colab.research.google.com/github/cruiserein22/facefusion-unlocked/blob/master/FaceFusion_Colab.ipynb\" target=\"_parent\"><img src=\"https://colab.research.google.com/assets/colab-badge.svg\" alt=\"Open In Colab\"/></a>"
      ]
    },
    {
      "cell_type": "code",
      "execution_count": null,
      "metadata": {
        "id": "qMbQ-URbzB0g"
      },
      "outputs": [],
      "source": [
        "!git clone https://github.com/facefusion/facefusion.git\n",
        "%cd /content/facefusion\n",
        "!pip install -r requirements.txt\n",
        "!pip install onnxruntime-gpu"
      ]
    },
    {
      "cell_type": "code",
      "source": [
        "# Step 1: Install CUDA 11.2\n",
        "!wget https://developer.download.nvidia.com/compute/cuda/11.2.2/local_installers/cuda_11.2.2_460.32.03_linux.run\n",
        "!sudo sh cuda_11.2.2_460.32.03_linux.run --silent --toolkit\n",
        "\n",
        "# Step 2: Install cuDNN 8.1 for CUDA 11.2\n",
        "!wget https://developer.download.nvidia.com/compute/redist/cudnn/v8.1.1/local_installers/cudnn-11.2-linux-x64-v8.1.1.33.tgz\n",
        "!tar -xzvf cudnn-11.2-linux-x64-v8.1.1.33.tgz\n",
        "\n",
        "# Step 3: Copy cuDNN files to the CUDA directory\n",
        "!sudo cp cuda/include/cudnn*.h /usr/local/cuda/include\n",
        "!sudo cp cuda/lib64/libcudnn* /usr/local/cuda/lib64\n",
        "!sudo chmod a+r /usr/local/cuda/include/cudnn*.h /usr/local/cuda/lib64/libcudnn*\n",
        "\n",
        "# Step 4: Verify CUDA and cuDNN installation\n",
        "!nvcc --version\n",
        "!echo \"cuDNN version:\" && cat /usr/local/cuda/include/cudnn_version.h | grep CUDNN_MAJOR -A 2\n"
      ],
      "metadata": {
        "id": "I6psOK4dAJrJ",
        "outputId": "5c56aa05-41ad-45f6-a034-46887480fa0c",
        "colab": {
          "base_uri": "https://localhost:8080/"
        }
      },
      "execution_count": 6,
      "outputs": [
        {
          "output_type": "stream",
          "name": "stdout",
          "text": [
            "--2024-10-28 19:25:33--  https://developer.download.nvidia.com/compute/cuda/11.2.2/local_installers/cuda_11.2.2_460.32.03_linux.run\n",
            "Resolving developer.download.nvidia.com (developer.download.nvidia.com)... 152.195.19.142\n",
            "Connecting to developer.download.nvidia.com (developer.download.nvidia.com)|152.195.19.142|:443... connected.\n",
            "HTTP request sent, awaiting response... 200 OK\n",
            "Length: 3057439068 (2.8G) [application/octet-stream]\n",
            "Saving to: ‘cuda_11.2.2_460.32.03_linux.run.1’\n",
            "\n",
            "cuda_11.2.2_460.32. 100%[===================>]   2.85G  66.9MB/s    in 45s     \n",
            "\n",
            "2024-10-28 19:26:18 (64.5 MB/s) - ‘cuda_11.2.2_460.32.03_linux.run.1’ saved [3057439068/3057439068]\n",
            "\n",
            " Failed to verify gcc version. See log at /var/log/cuda-installer.log for details.\n",
            "--2024-10-28 19:27:31--  https://developer.download.nvidia.com/compute/redist/cudnn/v8.1.1/local_installers/cudnn-11.2-linux-x64-v8.1.1.33.tgz\n",
            "Resolving developer.download.nvidia.com (developer.download.nvidia.com)... 152.195.19.142\n",
            "Connecting to developer.download.nvidia.com (developer.download.nvidia.com)|152.195.19.142|:443... connected.\n",
            "HTTP request sent, awaiting response... 404 Not Found\n",
            "2024-10-28 19:27:31 ERROR 404: Not Found.\n",
            "\n",
            "tar (child): cudnn-11.2-linux-x64-v8.1.1.33.tgz: Cannot open: No such file or directory\n",
            "tar (child): Error is not recoverable: exiting now\n",
            "tar: Child returned status 2\n",
            "tar: Error is not recoverable: exiting now\n",
            "cp: cannot stat 'cuda/include/cudnn*.h': No such file or directory\n",
            "cp: cannot stat 'cuda/lib64/libcudnn*': No such file or directory\n",
            "chmod: cannot access '/usr/local/cuda/include/cudnn*.h': No such file or directory\n",
            "chmod: cannot access '/usr/local/cuda/lib64/libcudnn*': No such file or directory\n",
            "nvcc: NVIDIA (R) Cuda compiler driver\n",
            "Copyright (c) 2005-2023 NVIDIA Corporation\n",
            "Built on Tue_Aug_15_22:02:13_PDT_2023\n",
            "Cuda compilation tools, release 12.2, V12.2.140\n",
            "Build cuda_12.2.r12.2/compiler.33191640_0\n",
            "cuDNN version:\n",
            "cat: /usr/local/cuda/include/cudnn_version.h: No such file or directory\n"
          ]
        }
      ]
    },
    {
      "cell_type": "code",
      "source": [
        "!python run.py"
      ],
      "metadata": {
        "id": "nBJZm44Tzkxr"
      },
      "execution_count": null,
      "outputs": []
    }
  ]
}